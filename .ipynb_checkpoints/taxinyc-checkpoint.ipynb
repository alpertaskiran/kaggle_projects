{
 "cells": [
  {
   "cell_type": "code",
   "execution_count": 2,
   "metadata": {
    "_cell_guid": "b1076dfc-b9ad-4769-8c92-a6c4dae69d19",
    "_uuid": "8f2839f25d086af736a60e9eeb907d3b93b6e0e5",
    "execution": {
     "iopub.execute_input": "2023-03-15T12:32:35.932633Z",
     "iopub.status.busy": "2023-03-15T12:32:35.932151Z",
     "iopub.status.idle": "2023-03-15T12:32:36.151007Z",
     "shell.execute_reply": "2023-03-15T12:32:36.149905Z",
     "shell.execute_reply.started": "2023-03-15T12:32:35.932591Z"
    }
   },
   "outputs": [
    {
     "ename": "ModuleNotFoundError",
     "evalue": "No module named 'geopy'",
     "output_type": "error",
     "traceback": [
      "\u001b[0;31m---------------------------------------------------------------------------\u001b[0m",
      "\u001b[0;31mModuleNotFoundError\u001b[0m                       Traceback (most recent call last)",
      "Cell \u001b[0;32mIn[2], line 8\u001b[0m\n\u001b[1;32m      6\u001b[0m \u001b[38;5;28;01mimport\u001b[39;00m \u001b[38;5;21;01mpandas\u001b[39;00m \u001b[38;5;28;01mas\u001b[39;00m \u001b[38;5;21;01mpd\u001b[39;00m \u001b[38;5;66;03m# data processing, CSV file I/O (e.g. pd.read_csv)\u001b[39;00m\n\u001b[1;32m      7\u001b[0m \u001b[38;5;28;01mimport\u001b[39;00m \u001b[38;5;21;01mmatplotlib\u001b[39;00m\u001b[38;5;21;01m.\u001b[39;00m\u001b[38;5;21;01mpyplot\u001b[39;00m \u001b[38;5;28;01mas\u001b[39;00m \u001b[38;5;21;01mplt\u001b[39;00m\n\u001b[0;32m----> 8\u001b[0m \u001b[38;5;28;01mfrom\u001b[39;00m \u001b[38;5;21;01mgeopy\u001b[39;00m \u001b[38;5;28;01mimport\u001b[39;00m distance\n\u001b[1;32m      9\u001b[0m \u001b[38;5;28;01mfrom\u001b[39;00m \u001b[38;5;21;01mdatetime\u001b[39;00m \u001b[38;5;28;01mimport\u001b[39;00m datetime\n\u001b[1;32m     10\u001b[0m get_ipython()\u001b[38;5;241m.\u001b[39mrun_line_magic(\u001b[38;5;124m'\u001b[39m\u001b[38;5;124mmatplotlib\u001b[39m\u001b[38;5;124m'\u001b[39m, \u001b[38;5;124m'\u001b[39m\u001b[38;5;124minline\u001b[39m\u001b[38;5;124m'\u001b[39m)\n",
      "\u001b[0;31mModuleNotFoundError\u001b[0m: No module named 'geopy'"
     ]
    }
   ],
   "source": [
    "import os\n",
    "\n",
    "import seaborn as sns\n",
    "import zipfile\n",
    "import numpy as np # linear algebra\n",
    "import pandas as pd # data processing, CSV file I/O (e.g. pd.read_csv)\n",
    "import matplotlib.pyplot as plt\n",
    "from geopy import distance\n",
    "from datetime import datetime\n",
    "%matplotlib inline\n"
   ]
  },
  {
   "cell_type": "code",
   "execution_count": 2,
   "metadata": {
    "execution": {
     "iopub.execute_input": "2023-03-15T11:56:47.534841Z",
     "iopub.status.busy": "2023-03-15T11:56:47.533623Z",
     "iopub.status.idle": "2023-03-15T11:56:56.804307Z",
     "shell.execute_reply": "2023-03-15T11:56:56.802905Z",
     "shell.execute_reply.started": "2023-03-15T11:56:47.534793Z"
    }
   },
   "outputs": [],
   "source": [
    "raw_data_train = pd.read_csv('/kaggle/input/nyc-taxi-trip-duration/train.zip', compression='zip', header=0, sep=',', quotechar='\"')\n",
    "raw_data_test = pd.read_csv('/kaggle/input/nyc-taxi-trip-duration/test.zip', compression='zip', header=0, sep=',', quotechar='\"')"
   ]
  },
  {
   "cell_type": "code",
   "execution_count": 3,
   "metadata": {
    "execution": {
     "iopub.execute_input": "2023-03-15T11:56:56.807165Z",
     "iopub.status.busy": "2023-03-15T11:56:56.806704Z",
     "iopub.status.idle": "2023-03-15T11:56:56.850102Z",
     "shell.execute_reply": "2023-03-15T11:56:56.849241Z",
     "shell.execute_reply.started": "2023-03-15T11:56:56.807124Z"
    }
   },
   "outputs": [
    {
     "data": {
      "text/html": [
       "<div>\n",
       "<style scoped>\n",
       "    .dataframe tbody tr th:only-of-type {\n",
       "        vertical-align: middle;\n",
       "    }\n",
       "\n",
       "    .dataframe tbody tr th {\n",
       "        vertical-align: top;\n",
       "    }\n",
       "\n",
       "    .dataframe thead th {\n",
       "        text-align: right;\n",
       "    }\n",
       "</style>\n",
       "<table border=\"1\" class=\"dataframe\">\n",
       "  <thead>\n",
       "    <tr style=\"text-align: right;\">\n",
       "      <th></th>\n",
       "      <th>id</th>\n",
       "      <th>vendor_id</th>\n",
       "      <th>pickup_datetime</th>\n",
       "      <th>dropoff_datetime</th>\n",
       "      <th>passenger_count</th>\n",
       "      <th>pickup_longitude</th>\n",
       "      <th>pickup_latitude</th>\n",
       "      <th>dropoff_longitude</th>\n",
       "      <th>dropoff_latitude</th>\n",
       "      <th>store_and_fwd_flag</th>\n",
       "      <th>trip_duration</th>\n",
       "    </tr>\n",
       "  </thead>\n",
       "  <tbody>\n",
       "    <tr>\n",
       "      <th>0</th>\n",
       "      <td>id2875421</td>\n",
       "      <td>2</td>\n",
       "      <td>2016-03-14 17:24:55</td>\n",
       "      <td>2016-03-14 17:32:30</td>\n",
       "      <td>1</td>\n",
       "      <td>-73.982155</td>\n",
       "      <td>40.767937</td>\n",
       "      <td>-73.964630</td>\n",
       "      <td>40.765602</td>\n",
       "      <td>N</td>\n",
       "      <td>455</td>\n",
       "    </tr>\n",
       "    <tr>\n",
       "      <th>1</th>\n",
       "      <td>id2377394</td>\n",
       "      <td>1</td>\n",
       "      <td>2016-06-12 00:43:35</td>\n",
       "      <td>2016-06-12 00:54:38</td>\n",
       "      <td>1</td>\n",
       "      <td>-73.980415</td>\n",
       "      <td>40.738564</td>\n",
       "      <td>-73.999481</td>\n",
       "      <td>40.731152</td>\n",
       "      <td>N</td>\n",
       "      <td>663</td>\n",
       "    </tr>\n",
       "    <tr>\n",
       "      <th>2</th>\n",
       "      <td>id3858529</td>\n",
       "      <td>2</td>\n",
       "      <td>2016-01-19 11:35:24</td>\n",
       "      <td>2016-01-19 12:10:48</td>\n",
       "      <td>1</td>\n",
       "      <td>-73.979027</td>\n",
       "      <td>40.763939</td>\n",
       "      <td>-74.005333</td>\n",
       "      <td>40.710087</td>\n",
       "      <td>N</td>\n",
       "      <td>2124</td>\n",
       "    </tr>\n",
       "    <tr>\n",
       "      <th>3</th>\n",
       "      <td>id3504673</td>\n",
       "      <td>2</td>\n",
       "      <td>2016-04-06 19:32:31</td>\n",
       "      <td>2016-04-06 19:39:40</td>\n",
       "      <td>1</td>\n",
       "      <td>-74.010040</td>\n",
       "      <td>40.719971</td>\n",
       "      <td>-74.012268</td>\n",
       "      <td>40.706718</td>\n",
       "      <td>N</td>\n",
       "      <td>429</td>\n",
       "    </tr>\n",
       "    <tr>\n",
       "      <th>4</th>\n",
       "      <td>id2181028</td>\n",
       "      <td>2</td>\n",
       "      <td>2016-03-26 13:30:55</td>\n",
       "      <td>2016-03-26 13:38:10</td>\n",
       "      <td>1</td>\n",
       "      <td>-73.973053</td>\n",
       "      <td>40.793209</td>\n",
       "      <td>-73.972923</td>\n",
       "      <td>40.782520</td>\n",
       "      <td>N</td>\n",
       "      <td>435</td>\n",
       "    </tr>\n",
       "  </tbody>\n",
       "</table>\n",
       "</div>"
      ],
      "text/plain": [
       "          id  vendor_id      pickup_datetime     dropoff_datetime  \\\n",
       "0  id2875421          2  2016-03-14 17:24:55  2016-03-14 17:32:30   \n",
       "1  id2377394          1  2016-06-12 00:43:35  2016-06-12 00:54:38   \n",
       "2  id3858529          2  2016-01-19 11:35:24  2016-01-19 12:10:48   \n",
       "3  id3504673          2  2016-04-06 19:32:31  2016-04-06 19:39:40   \n",
       "4  id2181028          2  2016-03-26 13:30:55  2016-03-26 13:38:10   \n",
       "\n",
       "   passenger_count  pickup_longitude  pickup_latitude  dropoff_longitude  \\\n",
       "0                1        -73.982155        40.767937         -73.964630   \n",
       "1                1        -73.980415        40.738564         -73.999481   \n",
       "2                1        -73.979027        40.763939         -74.005333   \n",
       "3                1        -74.010040        40.719971         -74.012268   \n",
       "4                1        -73.973053        40.793209         -73.972923   \n",
       "\n",
       "   dropoff_latitude store_and_fwd_flag  trip_duration  \n",
       "0         40.765602                  N            455  \n",
       "1         40.731152                  N            663  \n",
       "2         40.710087                  N           2124  \n",
       "3         40.706718                  N            429  \n",
       "4         40.782520                  N            435  "
      ]
     },
     "execution_count": 3,
     "metadata": {},
     "output_type": "execute_result"
    }
   ],
   "source": [
    "#first glimpse into to the data \n",
    "raw_data_train.head()"
   ]
  },
  {
   "cell_type": "code",
   "execution_count": 4,
   "metadata": {
    "execution": {
     "iopub.execute_input": "2023-03-15T11:56:56.852159Z",
     "iopub.status.busy": "2023-03-15T11:56:56.851571Z",
     "iopub.status.idle": "2023-03-15T11:57:55.158765Z",
     "shell.execute_reply": "2023-03-15T11:57:55.156993Z",
     "shell.execute_reply.started": "2023-03-15T11:56:56.852126Z"
    }
   },
   "outputs": [],
   "source": [
    "#feature engineering\n",
    "\n",
    "date_columns = ['pickup_datetime','dropoff_datetime']\n",
    "raw_data_train[date_columns] = raw_data_train[date_columns].apply(pd.to_datetime)\n",
    "raw_data_train['store_and_fwd_flag'] = raw_data_train['store_and_fwd_flag'].astype(str)\n",
    "raw_data_train['store_and_fwd_flag'] = np.where(raw_data_train['store_and_fwd_flag'] == \"Y\", 1,0)\n",
    "\n",
    "raw_data_test['pickup_datetime']= raw_data_test['pickup_datetime'].apply(pd.to_datetime)\n",
    "raw_data_test['store_and_fwd_flag'] = raw_data_test['store_and_fwd_flag'].astype(str)\n",
    "raw_data_test['store_and_fwd_flag'] = np.where(raw_data_test['store_and_fwd_flag'] == \"Y\", 1,0)\n"
   ]
  },
  {
   "cell_type": "code",
   "execution_count": 5,
   "metadata": {
    "execution": {
     "iopub.execute_input": "2023-03-15T11:57:55.164376Z",
     "iopub.status.busy": "2023-03-15T11:57:55.163670Z",
     "iopub.status.idle": "2023-03-15T11:57:55.173827Z",
     "shell.execute_reply": "2023-03-15T11:57:55.172462Z",
     "shell.execute_reply.started": "2023-03-15T11:57:55.164326Z"
    }
   },
   "outputs": [],
   "source": [
    "def _create_summary_table(raw_data_train):\n",
    "    summary_table = pd.DataFrame(index =raw_data_train.columns)\n",
    "    summary_table['types'] = raw_data_train.dtypes\n",
    "    summary_table['unique_values'] = raw_data_train.apply(lambda col: len(col.unique()))\n",
    "    summary_table['pct_unique_value']= summary_table['unique_values'] / raw_data_train.shape[0]\n",
    "    summary_table['nan_values'] = raw_data_train.apply(lambda col: col.isna().sum())\n",
    "    stats=raw_data_train.describe(include='all',datetime_is_numeric=True).T\n",
    "    summary_table['min']=stats['min']\n",
    "    summary_table['max']=stats['max']\n",
    "    summary_table['mean']=stats['mean']\n",
    "    summary_table['std']=stats['std']\n",
    "    return summary_table\n"
   ]
  },
  {
   "cell_type": "code",
   "execution_count": 6,
   "metadata": {
    "execution": {
     "iopub.execute_input": "2023-03-15T11:57:55.178108Z",
     "iopub.status.busy": "2023-03-15T11:57:55.177594Z",
     "iopub.status.idle": "2023-03-15T11:57:58.236899Z",
     "shell.execute_reply": "2023-03-15T11:57:58.235421Z",
     "shell.execute_reply.started": "2023-03-15T11:57:55.178063Z"
    }
   },
   "outputs": [
    {
     "data": {
      "text/html": [
       "<div>\n",
       "<style scoped>\n",
       "    .dataframe tbody tr th:only-of-type {\n",
       "        vertical-align: middle;\n",
       "    }\n",
       "\n",
       "    .dataframe tbody tr th {\n",
       "        vertical-align: top;\n",
       "    }\n",
       "\n",
       "    .dataframe thead th {\n",
       "        text-align: right;\n",
       "    }\n",
       "</style>\n",
       "<table border=\"1\" class=\"dataframe\">\n",
       "  <thead>\n",
       "    <tr style=\"text-align: right;\">\n",
       "      <th></th>\n",
       "      <th>types</th>\n",
       "      <th>unique_values</th>\n",
       "      <th>pct_unique_value</th>\n",
       "      <th>nan_values</th>\n",
       "      <th>min</th>\n",
       "      <th>max</th>\n",
       "      <th>mean</th>\n",
       "      <th>std</th>\n",
       "    </tr>\n",
       "  </thead>\n",
       "  <tbody>\n",
       "    <tr>\n",
       "      <th>id</th>\n",
       "      <td>object</td>\n",
       "      <td>1458644</td>\n",
       "      <td>1.000000</td>\n",
       "      <td>0</td>\n",
       "      <td>NaN</td>\n",
       "      <td>NaN</td>\n",
       "      <td>NaN</td>\n",
       "      <td>NaN</td>\n",
       "    </tr>\n",
       "    <tr>\n",
       "      <th>vendor_id</th>\n",
       "      <td>int64</td>\n",
       "      <td>2</td>\n",
       "      <td>0.000001</td>\n",
       "      <td>0</td>\n",
       "      <td>1.0</td>\n",
       "      <td>2.0</td>\n",
       "      <td>1.53495</td>\n",
       "      <td>0.498777</td>\n",
       "    </tr>\n",
       "    <tr>\n",
       "      <th>pickup_datetime</th>\n",
       "      <td>datetime64[ns]</td>\n",
       "      <td>1380222</td>\n",
       "      <td>0.946236</td>\n",
       "      <td>0</td>\n",
       "      <td>2016-01-01 00:00:17</td>\n",
       "      <td>2016-06-30 23:59:39</td>\n",
       "      <td>2016-04-01 10:10:24.940037120</td>\n",
       "      <td>NaN</td>\n",
       "    </tr>\n",
       "    <tr>\n",
       "      <th>dropoff_datetime</th>\n",
       "      <td>datetime64[ns]</td>\n",
       "      <td>1380377</td>\n",
       "      <td>0.946343</td>\n",
       "      <td>0</td>\n",
       "      <td>2016-01-01 00:03:31</td>\n",
       "      <td>2016-07-01 23:02:03</td>\n",
       "      <td>2016-04-01 10:26:24.432310528</td>\n",
       "      <td>NaN</td>\n",
       "    </tr>\n",
       "    <tr>\n",
       "      <th>passenger_count</th>\n",
       "      <td>int64</td>\n",
       "      <td>10</td>\n",
       "      <td>0.000007</td>\n",
       "      <td>0</td>\n",
       "      <td>0.0</td>\n",
       "      <td>9.0</td>\n",
       "      <td>1.66453</td>\n",
       "      <td>1.314242</td>\n",
       "    </tr>\n",
       "    <tr>\n",
       "      <th>pickup_longitude</th>\n",
       "      <td>float64</td>\n",
       "      <td>23047</td>\n",
       "      <td>0.015800</td>\n",
       "      <td>0</td>\n",
       "      <td>-121.933342</td>\n",
       "      <td>-61.335529</td>\n",
       "      <td>-73.973486</td>\n",
       "      <td>0.070902</td>\n",
       "    </tr>\n",
       "    <tr>\n",
       "      <th>pickup_latitude</th>\n",
       "      <td>float64</td>\n",
       "      <td>45245</td>\n",
       "      <td>0.031019</td>\n",
       "      <td>0</td>\n",
       "      <td>34.359695</td>\n",
       "      <td>51.881084</td>\n",
       "      <td>40.750921</td>\n",
       "      <td>0.032881</td>\n",
       "    </tr>\n",
       "    <tr>\n",
       "      <th>dropoff_longitude</th>\n",
       "      <td>float64</td>\n",
       "      <td>33821</td>\n",
       "      <td>0.023187</td>\n",
       "      <td>0</td>\n",
       "      <td>-121.933304</td>\n",
       "      <td>-61.335529</td>\n",
       "      <td>-73.973416</td>\n",
       "      <td>0.070643</td>\n",
       "    </tr>\n",
       "    <tr>\n",
       "      <th>dropoff_latitude</th>\n",
       "      <td>float64</td>\n",
       "      <td>62519</td>\n",
       "      <td>0.042861</td>\n",
       "      <td>0</td>\n",
       "      <td>32.181141</td>\n",
       "      <td>43.921028</td>\n",
       "      <td>40.7518</td>\n",
       "      <td>0.035891</td>\n",
       "    </tr>\n",
       "    <tr>\n",
       "      <th>store_and_fwd_flag</th>\n",
       "      <td>int64</td>\n",
       "      <td>2</td>\n",
       "      <td>0.000001</td>\n",
       "      <td>0</td>\n",
       "      <td>0.0</td>\n",
       "      <td>1.0</td>\n",
       "      <td>0.005515</td>\n",
       "      <td>0.074061</td>\n",
       "    </tr>\n",
       "    <tr>\n",
       "      <th>trip_duration</th>\n",
       "      <td>int64</td>\n",
       "      <td>7417</td>\n",
       "      <td>0.005085</td>\n",
       "      <td>0</td>\n",
       "      <td>1.0</td>\n",
       "      <td>3526282.0</td>\n",
       "      <td>959.492273</td>\n",
       "      <td>5237.431724</td>\n",
       "    </tr>\n",
       "  </tbody>\n",
       "</table>\n",
       "</div>"
      ],
      "text/plain": [
       "                             types  unique_values  pct_unique_value  \\\n",
       "id                          object        1458644          1.000000   \n",
       "vendor_id                    int64              2          0.000001   \n",
       "pickup_datetime     datetime64[ns]        1380222          0.946236   \n",
       "dropoff_datetime    datetime64[ns]        1380377          0.946343   \n",
       "passenger_count              int64             10          0.000007   \n",
       "pickup_longitude           float64          23047          0.015800   \n",
       "pickup_latitude            float64          45245          0.031019   \n",
       "dropoff_longitude          float64          33821          0.023187   \n",
       "dropoff_latitude           float64          62519          0.042861   \n",
       "store_and_fwd_flag           int64              2          0.000001   \n",
       "trip_duration                int64           7417          0.005085   \n",
       "\n",
       "                    nan_values                  min                  max  \\\n",
       "id                           0                  NaN                  NaN   \n",
       "vendor_id                    0                  1.0                  2.0   \n",
       "pickup_datetime              0  2016-01-01 00:00:17  2016-06-30 23:59:39   \n",
       "dropoff_datetime             0  2016-01-01 00:03:31  2016-07-01 23:02:03   \n",
       "passenger_count              0                  0.0                  9.0   \n",
       "pickup_longitude             0          -121.933342           -61.335529   \n",
       "pickup_latitude              0            34.359695            51.881084   \n",
       "dropoff_longitude            0          -121.933304           -61.335529   \n",
       "dropoff_latitude             0            32.181141            43.921028   \n",
       "store_and_fwd_flag           0                  0.0                  1.0   \n",
       "trip_duration                0                  1.0            3526282.0   \n",
       "\n",
       "                                             mean          std  \n",
       "id                                            NaN          NaN  \n",
       "vendor_id                                 1.53495     0.498777  \n",
       "pickup_datetime     2016-04-01 10:10:24.940037120          NaN  \n",
       "dropoff_datetime    2016-04-01 10:26:24.432310528          NaN  \n",
       "passenger_count                           1.66453     1.314242  \n",
       "pickup_longitude                       -73.973486     0.070902  \n",
       "pickup_latitude                         40.750921     0.032881  \n",
       "dropoff_longitude                      -73.973416     0.070643  \n",
       "dropoff_latitude                          40.7518     0.035891  \n",
       "store_and_fwd_flag                       0.005515     0.074061  \n",
       "trip_duration                          959.492273  5237.431724  "
      ]
     },
     "execution_count": 6,
     "metadata": {},
     "output_type": "execute_result"
    }
   ],
   "source": [
    "_create_summary_table(raw_data_train)"
   ]
  },
  {
   "cell_type": "markdown",
   "metadata": {
    "execution": {
     "iopub.execute_input": "2023-03-15T12:21:10.612588Z",
     "iopub.status.busy": "2023-03-15T12:21:10.612134Z",
     "iopub.status.idle": "2023-03-15T12:21:10.621125Z",
     "shell.execute_reply": "2023-03-15T12:21:10.619624Z",
     "shell.execute_reply.started": "2023-03-15T12:21:10.612506Z"
    }
   },
   "source": [
    "### What do we see here: \n",
    "- id -> there is no nan row \n",
    "- vendor -> seems to be well distributed \n",
    "- pickup_datetime/dropoff_datetime -> there are some days/hr/min with higher traffic, spans 5 month \n",
    "- passenger_count -> I would expect min value to be 1, fitting 9 people into a taxi seems to be challenging \n",
    "- latitude / longitude -> few unique values, maybe we can bin them \n",
    "- trip_duration(seconds) -> 1 second of trip? , 3526282 seconds of trip? \n"
   ]
  },
  {
   "cell_type": "code",
   "execution_count": 50,
   "metadata": {
    "execution": {
     "iopub.execute_input": "2023-03-15T12:20:40.253820Z",
     "iopub.status.busy": "2023-03-15T12:20:40.253241Z",
     "iopub.status.idle": "2023-03-15T12:20:40.267344Z",
     "shell.execute_reply": "2023-03-15T12:20:40.265956Z",
     "shell.execute_reply.started": "2023-03-15T12:20:40.253769Z"
    }
   },
   "outputs": [],
   "source": [
    "# cleaning passengers with 0,7,8,9\n",
    "raw_data_train['passenger_count'].value_counts()\n",
    "non_passenger = [0,7,8,9]\n",
    "mask_passanger = raw_data_train['passenger_count'].isin(non_passenger)"
   ]
  },
  {
   "cell_type": "code",
   "execution_count": 53,
   "metadata": {
    "execution": {
     "iopub.execute_input": "2023-03-15T12:21:58.907463Z",
     "iopub.status.busy": "2023-03-15T12:21:58.907018Z",
     "iopub.status.idle": "2023-03-15T12:21:59.408777Z",
     "shell.execute_reply": "2023-03-15T12:21:59.407486Z",
     "shell.execute_reply.started": "2023-03-15T12:21:58.907425Z"
    }
   },
   "outputs": [],
   "source": [
    "raw_data_train.mask(mask_passanger,inplace=True)"
   ]
  },
  {
   "cell_type": "code",
   "execution_count": null,
   "metadata": {},
   "outputs": [],
   "source": [
    "12000/(60*60)"
   ]
  },
  {
   "cell_type": "code",
   "execution_count": null,
   "metadata": {
    "execution": {
     "iopub.execute_input": "2023-03-15T12:35:31.648567Z",
     "iopub.status.busy": "2023-03-15T12:35:31.648115Z"
    }
   },
   "outputs": [],
   "source": [
    "def get_distance(row): \n",
    "    pick = (row.pickup_latitude, row.pickup_longitude)\n",
    "    drop = (row.dropoff_latitude, row.dropoff_longitude)\n",
    "    dist = distance.geodesic(pick, drop).km\n",
    "    return dist\n",
    "\n",
    "raw_data_train[\"distance\"] = raw_data_train.apply(get_distance, axis=1)"
   ]
  },
  {
   "cell_type": "code",
   "execution_count": null,
   "metadata": {},
   "outputs": [],
   "source": [
    "raw_data_train"
   ]
  }
 ],
 "metadata": {
  "kernelspec": {
   "display_name": "Python 3 (ipykernel)",
   "language": "python",
   "name": "python3"
  },
  "language_info": {
   "codemirror_mode": {
    "name": "ipython",
    "version": 3
   },
   "file_extension": ".py",
   "mimetype": "text/x-python",
   "name": "python",
   "nbconvert_exporter": "python",
   "pygments_lexer": "ipython3",
   "version": "3.9.16"
  }
 },
 "nbformat": 4,
 "nbformat_minor": 4
}
