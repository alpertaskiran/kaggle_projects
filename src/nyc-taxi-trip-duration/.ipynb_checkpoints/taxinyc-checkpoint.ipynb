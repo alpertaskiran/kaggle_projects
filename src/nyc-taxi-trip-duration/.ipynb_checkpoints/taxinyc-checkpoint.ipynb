{
 "cells": [
  {
   "cell_type": "code",
   "execution_count": 1,
   "metadata": {
    "_cell_guid": "b1076dfc-b9ad-4769-8c92-a6c4dae69d19",
    "_uuid": "8f2839f25d086af736a60e9eeb907d3b93b6e0e5",
    "execution": {
     "iopub.execute_input": "2023-03-15T12:32:35.932633Z",
     "iopub.status.busy": "2023-03-15T12:32:35.932151Z",
     "iopub.status.idle": "2023-03-15T12:32:36.151007Z",
     "shell.execute_reply": "2023-03-15T12:32:36.149905Z",
     "shell.execute_reply.started": "2023-03-15T12:32:35.932591Z"
    }
   },
   "outputs": [],
   "source": [
    "import os\n",
    "\n",
    "import seaborn as sns\n",
    "import zipfile\n",
    "import numpy as np # linear algebra\n",
    "import pandas as pd # data processing, CSV file I/O (e.g. pd.read_csv)\n",
    "import matplotlib.pyplot as plt\n",
    "from geopy import distance\n",
    "from datetime import datetime\n",
    "%matplotlib inline\n",
    "\n",
    "import folium\n",
    "from folium.plugins import MarkerCluster\n"
   ]
  },
  {
   "cell_type": "code",
   "execution_count": 2,
   "metadata": {
    "execution": {
     "iopub.execute_input": "2023-03-15T11:56:47.534841Z",
     "iopub.status.busy": "2023-03-15T11:56:47.533623Z",
     "iopub.status.idle": "2023-03-15T11:56:56.804307Z",
     "shell.execute_reply": "2023-03-15T11:56:56.802905Z",
     "shell.execute_reply.started": "2023-03-15T11:56:47.534793Z"
    }
   },
   "outputs": [],
   "source": [
    "raw_data_train = pd.read_csv('data/nyc-taxi-trip-duration/train.zip', compression='zip', header=0, sep=',', quotechar='\"')\n",
    "raw_data_test = pd.read_csv('data/nyc-taxi-trip-duration/test.zip', compression='zip', header=0, sep=',', quotechar='\"')"
   ]
  },
  {
   "cell_type": "code",
   "execution_count": 3,
   "metadata": {
    "execution": {
     "iopub.execute_input": "2023-03-15T11:56:56.807165Z",
     "iopub.status.busy": "2023-03-15T11:56:56.806704Z",
     "iopub.status.idle": "2023-03-15T11:56:56.850102Z",
     "shell.execute_reply": "2023-03-15T11:56:56.849241Z",
     "shell.execute_reply.started": "2023-03-15T11:56:56.807124Z"
    }
   },
   "outputs": [
    {
     "data": {
      "text/html": [
       "<div>\n",
       "<style scoped>\n",
       "    .dataframe tbody tr th:only-of-type {\n",
       "        vertical-align: middle;\n",
       "    }\n",
       "\n",
       "    .dataframe tbody tr th {\n",
       "        vertical-align: top;\n",
       "    }\n",
       "\n",
       "    .dataframe thead th {\n",
       "        text-align: right;\n",
       "    }\n",
       "</style>\n",
       "<table border=\"1\" class=\"dataframe\">\n",
       "  <thead>\n",
       "    <tr style=\"text-align: right;\">\n",
       "      <th></th>\n",
       "      <th>id</th>\n",
       "      <th>vendor_id</th>\n",
       "      <th>pickup_datetime</th>\n",
       "      <th>dropoff_datetime</th>\n",
       "      <th>passenger_count</th>\n",
       "      <th>pickup_longitude</th>\n",
       "      <th>pickup_latitude</th>\n",
       "      <th>dropoff_longitude</th>\n",
       "      <th>dropoff_latitude</th>\n",
       "      <th>store_and_fwd_flag</th>\n",
       "      <th>trip_duration</th>\n",
       "    </tr>\n",
       "  </thead>\n",
       "  <tbody>\n",
       "    <tr>\n",
       "      <th>0</th>\n",
       "      <td>id2875421</td>\n",
       "      <td>2</td>\n",
       "      <td>2016-03-14 17:24:55</td>\n",
       "      <td>2016-03-14 17:32:30</td>\n",
       "      <td>1</td>\n",
       "      <td>-73.982155</td>\n",
       "      <td>40.767937</td>\n",
       "      <td>-73.964630</td>\n",
       "      <td>40.765602</td>\n",
       "      <td>N</td>\n",
       "      <td>455</td>\n",
       "    </tr>\n",
       "    <tr>\n",
       "      <th>1</th>\n",
       "      <td>id2377394</td>\n",
       "      <td>1</td>\n",
       "      <td>2016-06-12 00:43:35</td>\n",
       "      <td>2016-06-12 00:54:38</td>\n",
       "      <td>1</td>\n",
       "      <td>-73.980415</td>\n",
       "      <td>40.738564</td>\n",
       "      <td>-73.999481</td>\n",
       "      <td>40.731152</td>\n",
       "      <td>N</td>\n",
       "      <td>663</td>\n",
       "    </tr>\n",
       "    <tr>\n",
       "      <th>2</th>\n",
       "      <td>id3858529</td>\n",
       "      <td>2</td>\n",
       "      <td>2016-01-19 11:35:24</td>\n",
       "      <td>2016-01-19 12:10:48</td>\n",
       "      <td>1</td>\n",
       "      <td>-73.979027</td>\n",
       "      <td>40.763939</td>\n",
       "      <td>-74.005333</td>\n",
       "      <td>40.710087</td>\n",
       "      <td>N</td>\n",
       "      <td>2124</td>\n",
       "    </tr>\n",
       "    <tr>\n",
       "      <th>3</th>\n",
       "      <td>id3504673</td>\n",
       "      <td>2</td>\n",
       "      <td>2016-04-06 19:32:31</td>\n",
       "      <td>2016-04-06 19:39:40</td>\n",
       "      <td>1</td>\n",
       "      <td>-74.010040</td>\n",
       "      <td>40.719971</td>\n",
       "      <td>-74.012268</td>\n",
       "      <td>40.706718</td>\n",
       "      <td>N</td>\n",
       "      <td>429</td>\n",
       "    </tr>\n",
       "    <tr>\n",
       "      <th>4</th>\n",
       "      <td>id2181028</td>\n",
       "      <td>2</td>\n",
       "      <td>2016-03-26 13:30:55</td>\n",
       "      <td>2016-03-26 13:38:10</td>\n",
       "      <td>1</td>\n",
       "      <td>-73.973053</td>\n",
       "      <td>40.793209</td>\n",
       "      <td>-73.972923</td>\n",
       "      <td>40.782520</td>\n",
       "      <td>N</td>\n",
       "      <td>435</td>\n",
       "    </tr>\n",
       "  </tbody>\n",
       "</table>\n",
       "</div>"
      ],
      "text/plain": [
       "          id  vendor_id      pickup_datetime     dropoff_datetime  \\\n",
       "0  id2875421          2  2016-03-14 17:24:55  2016-03-14 17:32:30   \n",
       "1  id2377394          1  2016-06-12 00:43:35  2016-06-12 00:54:38   \n",
       "2  id3858529          2  2016-01-19 11:35:24  2016-01-19 12:10:48   \n",
       "3  id3504673          2  2016-04-06 19:32:31  2016-04-06 19:39:40   \n",
       "4  id2181028          2  2016-03-26 13:30:55  2016-03-26 13:38:10   \n",
       "\n",
       "   passenger_count  pickup_longitude  pickup_latitude  dropoff_longitude  \\\n",
       "0                1        -73.982155        40.767937         -73.964630   \n",
       "1                1        -73.980415        40.738564         -73.999481   \n",
       "2                1        -73.979027        40.763939         -74.005333   \n",
       "3                1        -74.010040        40.719971         -74.012268   \n",
       "4                1        -73.973053        40.793209         -73.972923   \n",
       "\n",
       "   dropoff_latitude store_and_fwd_flag  trip_duration  \n",
       "0         40.765602                  N            455  \n",
       "1         40.731152                  N            663  \n",
       "2         40.710087                  N           2124  \n",
       "3         40.706718                  N            429  \n",
       "4         40.782520                  N            435  "
      ]
     },
     "execution_count": 3,
     "metadata": {},
     "output_type": "execute_result"
    }
   ],
   "source": [
    "#first glimpse into to the data \n",
    "raw_data_train.head()"
   ]
  },
  {
   "cell_type": "code",
   "execution_count": 4,
   "metadata": {
    "execution": {
     "iopub.execute_input": "2023-03-15T11:57:55.164376Z",
     "iopub.status.busy": "2023-03-15T11:57:55.163670Z",
     "iopub.status.idle": "2023-03-15T11:57:55.173827Z",
     "shell.execute_reply": "2023-03-15T11:57:55.172462Z",
     "shell.execute_reply.started": "2023-03-15T11:57:55.164326Z"
    }
   },
   "outputs": [],
   "source": [
    "def _create_summary_table(raw_data_train):\n",
    "    summary_table = pd.DataFrame(index =raw_data_train.columns)\n",
    "    summary_table['types'] = raw_data_train.dtypes\n",
    "    summary_table['unique_values'] = raw_data_train.apply(lambda col: len(col.unique()))\n",
    "    summary_table['pct_unique_value']= summary_table['unique_values'] / raw_data_train.shape[0]\n",
    "    summary_table['nan_values'] = raw_data_train.apply(lambda col: col.isna().sum())\n",
    "    stats=raw_data_train.describe(include='all',datetime_is_numeric=True).T\n",
    "    summary_table['min']=stats['min']\n",
    "    summary_table['max']=stats['max']\n",
    "    summary_table['mean']=stats['mean']\n",
    "    summary_table['std']=stats['std']\n",
    "    return summary_table\n"
   ]
  },
  {
   "cell_type": "code",
   "execution_count": 5,
   "metadata": {
    "execution": {
     "iopub.execute_input": "2023-03-15T11:57:55.178108Z",
     "iopub.status.busy": "2023-03-15T11:57:55.177594Z",
     "iopub.status.idle": "2023-03-15T11:57:58.236899Z",
     "shell.execute_reply": "2023-03-15T11:57:58.235421Z",
     "shell.execute_reply.started": "2023-03-15T11:57:55.178063Z"
    }
   },
   "outputs": [
    {
     "data": {
      "text/html": [
       "<div>\n",
       "<style scoped>\n",
       "    .dataframe tbody tr th:only-of-type {\n",
       "        vertical-align: middle;\n",
       "    }\n",
       "\n",
       "    .dataframe tbody tr th {\n",
       "        vertical-align: top;\n",
       "    }\n",
       "\n",
       "    .dataframe thead th {\n",
       "        text-align: right;\n",
       "    }\n",
       "</style>\n",
       "<table border=\"1\" class=\"dataframe\">\n",
       "  <thead>\n",
       "    <tr style=\"text-align: right;\">\n",
       "      <th></th>\n",
       "      <th>types</th>\n",
       "      <th>unique_values</th>\n",
       "      <th>pct_unique_value</th>\n",
       "      <th>nan_values</th>\n",
       "      <th>min</th>\n",
       "      <th>max</th>\n",
       "      <th>mean</th>\n",
       "      <th>std</th>\n",
       "    </tr>\n",
       "  </thead>\n",
       "  <tbody>\n",
       "    <tr>\n",
       "      <th>id</th>\n",
       "      <td>object</td>\n",
       "      <td>1458644</td>\n",
       "      <td>1.000000</td>\n",
       "      <td>0</td>\n",
       "      <td>NaN</td>\n",
       "      <td>NaN</td>\n",
       "      <td>NaN</td>\n",
       "      <td>NaN</td>\n",
       "    </tr>\n",
       "    <tr>\n",
       "      <th>vendor_id</th>\n",
       "      <td>int64</td>\n",
       "      <td>2</td>\n",
       "      <td>0.000001</td>\n",
       "      <td>0</td>\n",
       "      <td>1.0</td>\n",
       "      <td>2.0</td>\n",
       "      <td>1.53495</td>\n",
       "      <td>0.498777</td>\n",
       "    </tr>\n",
       "    <tr>\n",
       "      <th>pickup_datetime</th>\n",
       "      <td>object</td>\n",
       "      <td>1380222</td>\n",
       "      <td>0.946236</td>\n",
       "      <td>0</td>\n",
       "      <td>NaN</td>\n",
       "      <td>NaN</td>\n",
       "      <td>NaN</td>\n",
       "      <td>NaN</td>\n",
       "    </tr>\n",
       "    <tr>\n",
       "      <th>dropoff_datetime</th>\n",
       "      <td>object</td>\n",
       "      <td>1380377</td>\n",
       "      <td>0.946343</td>\n",
       "      <td>0</td>\n",
       "      <td>NaN</td>\n",
       "      <td>NaN</td>\n",
       "      <td>NaN</td>\n",
       "      <td>NaN</td>\n",
       "    </tr>\n",
       "    <tr>\n",
       "      <th>passenger_count</th>\n",
       "      <td>int64</td>\n",
       "      <td>10</td>\n",
       "      <td>0.000007</td>\n",
       "      <td>0</td>\n",
       "      <td>0.0</td>\n",
       "      <td>9.0</td>\n",
       "      <td>1.66453</td>\n",
       "      <td>1.314242</td>\n",
       "    </tr>\n",
       "    <tr>\n",
       "      <th>pickup_longitude</th>\n",
       "      <td>float64</td>\n",
       "      <td>23047</td>\n",
       "      <td>0.015800</td>\n",
       "      <td>0</td>\n",
       "      <td>-121.933342</td>\n",
       "      <td>-61.335529</td>\n",
       "      <td>-73.973486</td>\n",
       "      <td>0.070902</td>\n",
       "    </tr>\n",
       "    <tr>\n",
       "      <th>pickup_latitude</th>\n",
       "      <td>float64</td>\n",
       "      <td>45245</td>\n",
       "      <td>0.031019</td>\n",
       "      <td>0</td>\n",
       "      <td>34.359695</td>\n",
       "      <td>51.881084</td>\n",
       "      <td>40.750921</td>\n",
       "      <td>0.032881</td>\n",
       "    </tr>\n",
       "    <tr>\n",
       "      <th>dropoff_longitude</th>\n",
       "      <td>float64</td>\n",
       "      <td>33821</td>\n",
       "      <td>0.023187</td>\n",
       "      <td>0</td>\n",
       "      <td>-121.933304</td>\n",
       "      <td>-61.335529</td>\n",
       "      <td>-73.973416</td>\n",
       "      <td>0.070643</td>\n",
       "    </tr>\n",
       "    <tr>\n",
       "      <th>dropoff_latitude</th>\n",
       "      <td>float64</td>\n",
       "      <td>62519</td>\n",
       "      <td>0.042861</td>\n",
       "      <td>0</td>\n",
       "      <td>32.181141</td>\n",
       "      <td>43.921028</td>\n",
       "      <td>40.7518</td>\n",
       "      <td>0.035891</td>\n",
       "    </tr>\n",
       "    <tr>\n",
       "      <th>store_and_fwd_flag</th>\n",
       "      <td>object</td>\n",
       "      <td>2</td>\n",
       "      <td>0.000001</td>\n",
       "      <td>0</td>\n",
       "      <td>NaN</td>\n",
       "      <td>NaN</td>\n",
       "      <td>NaN</td>\n",
       "      <td>NaN</td>\n",
       "    </tr>\n",
       "    <tr>\n",
       "      <th>trip_duration</th>\n",
       "      <td>int64</td>\n",
       "      <td>7417</td>\n",
       "      <td>0.005085</td>\n",
       "      <td>0</td>\n",
       "      <td>1.0</td>\n",
       "      <td>3526282.0</td>\n",
       "      <td>959.492273</td>\n",
       "      <td>5237.431724</td>\n",
       "    </tr>\n",
       "  </tbody>\n",
       "</table>\n",
       "</div>"
      ],
      "text/plain": [
       "                      types  unique_values  pct_unique_value  nan_values  \\\n",
       "id                   object        1458644          1.000000           0   \n",
       "vendor_id             int64              2          0.000001           0   \n",
       "pickup_datetime      object        1380222          0.946236           0   \n",
       "dropoff_datetime     object        1380377          0.946343           0   \n",
       "passenger_count       int64             10          0.000007           0   \n",
       "pickup_longitude    float64          23047          0.015800           0   \n",
       "pickup_latitude     float64          45245          0.031019           0   \n",
       "dropoff_longitude   float64          33821          0.023187           0   \n",
       "dropoff_latitude    float64          62519          0.042861           0   \n",
       "store_and_fwd_flag   object              2          0.000001           0   \n",
       "trip_duration         int64           7417          0.005085           0   \n",
       "\n",
       "                           min        max        mean          std  \n",
       "id                         NaN        NaN         NaN          NaN  \n",
       "vendor_id                  1.0        2.0     1.53495     0.498777  \n",
       "pickup_datetime            NaN        NaN         NaN          NaN  \n",
       "dropoff_datetime           NaN        NaN         NaN          NaN  \n",
       "passenger_count            0.0        9.0     1.66453     1.314242  \n",
       "pickup_longitude   -121.933342 -61.335529  -73.973486     0.070902  \n",
       "pickup_latitude      34.359695  51.881084   40.750921     0.032881  \n",
       "dropoff_longitude  -121.933304 -61.335529  -73.973416     0.070643  \n",
       "dropoff_latitude     32.181141  43.921028     40.7518     0.035891  \n",
       "store_and_fwd_flag         NaN        NaN         NaN          NaN  \n",
       "trip_duration              1.0  3526282.0  959.492273  5237.431724  "
      ]
     },
     "execution_count": 5,
     "metadata": {},
     "output_type": "execute_result"
    }
   ],
   "source": [
    "_create_summary_table(raw_data_train)"
   ]
  },
  {
   "cell_type": "code",
   "execution_count": null,
   "metadata": {},
   "outputs": [],
   "source": [
    "_create_summary_table(raw_data_test)"
   ]
  },
  {
   "cell_type": "markdown",
   "metadata": {
    "execution": {
     "iopub.execute_input": "2023-03-15T12:21:10.612588Z",
     "iopub.status.busy": "2023-03-15T12:21:10.612134Z",
     "iopub.status.idle": "2023-03-15T12:21:10.621125Z",
     "shell.execute_reply": "2023-03-15T12:21:10.619624Z",
     "shell.execute_reply.started": "2023-03-15T12:21:10.612506Z"
    }
   },
   "source": [
    "### What do we see here: \n",
    "- id -> there is no nan row \n",
    "- vendor -> seems to be well distributed \n",
    "- pickup_datetime/dropoff_datetime -> there are some days/hr/min with higher traffic, spans 5 month \n",
    "- passenger_count -> I would expect min value to be 1, fitting 9 people into a taxi seems to be challenging \n",
    "- latitude / longitude -> few unique values, maybe we can bin them \n",
    "- trip_duration(seconds) -> 1 second of trip? , 3526282 seconds of trip? \n"
   ]
  },
  {
   "cell_type": "code",
   "execution_count": null,
   "metadata": {},
   "outputs": [],
   "source": [
    "train = raw_data_train.copy()\n",
    "test = raw_data_test.copy()"
   ]
  },
  {
   "cell_type": "code",
   "execution_count": null,
   "metadata": {
    "execution": {
     "iopub.execute_input": "2023-03-15T12:20:40.253820Z",
     "iopub.status.busy": "2023-03-15T12:20:40.253241Z",
     "iopub.status.idle": "2023-03-15T12:20:40.267344Z",
     "shell.execute_reply": "2023-03-15T12:20:40.265956Z",
     "shell.execute_reply.started": "2023-03-15T12:20:40.253769Z"
    }
   },
   "outputs": [],
   "source": [
    "def get_distance(row): \n",
    "    pick = (row.pickup_latitude, row.pickup_longitude)\n",
    "    drop = (row.dropoff_latitude, row.dropoff_longitude)\n",
    "    dist = distance.geodesic(pick, drop).km\n",
    "    return dist\n",
    "\n",
    "train['distance'] = train.apply(get_distance, axis=1)"
   ]
  },
  {
   "cell_type": "code",
   "execution_count": null,
   "metadata": {},
   "outputs": [],
   "source": [
    "# cleaning passengers with 0,7,8,9\n",
    "train['passenger_count'].value_counts()\n",
    "non_passenger = [0,7,8,9]\n",
    "mask_passanger = train['passenger_count'].isin(non_passenger)\n",
    "train.mask(mask_passanger,inplace=True)"
   ]
  },
  {
   "cell_type": "code",
   "execution_count": null,
   "metadata": {},
   "outputs": [],
   "source": [
    "three_hour = 60*60*3\n",
    "mask_hour = train['trip_duration']>three_hour\n",
    "train.mask(mask_hour,inplace=True)"
   ]
  },
  {
   "cell_type": "code",
   "execution_count": null,
   "metadata": {},
   "outputs": [],
   "source": [
    "distance = 0\n",
    "mask_distance = train['distance']==distance\n",
    "train.mask(mask_distance,inplace=True)"
   ]
  },
  {
   "cell_type": "code",
   "execution_count": null,
   "metadata": {
    "scrolled": true
   },
   "outputs": [],
   "source": [
    "plt.hist(train['trip_duration'],bins=100)"
   ]
  },
  {
   "cell_type": "code",
   "execution_count": null,
   "metadata": {},
   "outputs": [],
   "source": [
    "train['trip_duration']/(60*60)"
   ]
  },
  {
   "cell_type": "code",
   "execution_count": null,
   "metadata": {},
   "outputs": [],
   "source": [
    "train['speed_kmh']= train['distance']/(train['trip_duration']/(60*60))"
   ]
  },
  {
   "cell_type": "code",
   "execution_count": null,
   "metadata": {},
   "outputs": [],
   "source": [
    "speed_limit = 90\n",
    "mask_speed = train['speed_kmh']>speed_limit\n",
    "train.mask(mask_speed,inplace=True)"
   ]
  },
  {
   "cell_type": "code",
   "execution_count": null,
   "metadata": {
    "scrolled": true
   },
   "outputs": [],
   "source": [
    "plt.hist(train['speed_kmh'],bins=5)"
   ]
  },
  {
   "cell_type": "code",
   "execution_count": null,
   "metadata": {},
   "outputs": [],
   "source": [
    "lat_range = [40.496748,40.913584]\n",
    "long_range = [-74.258259,-73,733869]"
   ]
  },
  {
   "cell_type": "code",
   "execution_count": null,
   "metadata": {},
   "outputs": [],
   "source": [
    "mask_location_long"
   ]
  },
  {
   "cell_type": "code",
   "execution_count": null,
   "metadata": {
    "scrolled": true
   },
   "outputs": [],
   "source": [
    "mask_location_long = (train['pickup_longitude']<long_range[0])|( train['pickup_longitude']>long_range[1])\n",
    "# mask_location_lat =train['pickup_latitude']<pickup_latitude\n",
    "temp = train[mask_location_long]\n"
   ]
  },
  {
   "cell_type": "code",
   "execution_count": null,
   "metadata": {},
   "outputs": [],
   "source": [
    "my_map = folium.Map(location =[41, -74.00] , zoom_start = 4)\n",
    "for i in range(0,len(temp.dropna())):\n",
    "        folium.Marker(\n",
    "          location=[temp.dropna().iloc[i]['pickup_latitude'],temp.dropna().iloc[i]['pickup_longitude']],\n",
    "          popup=temp.dropna().iloc[i]['id'],\n",
    "       ).add_to(my_map)\n",
    "my_map"
   ]
  },
  {
   "cell_type": "code",
   "execution_count": null,
   "metadata": {},
   "outputs": [],
   "source": [
    "mask_location_long = (train['dropoff_longitude']<long_range[0])|( train['dropoff_longitude']>long_range[1])\n",
    "# mask_location_lat =train['pickup_latitude']<pickup_latitude\n",
    "temp = train[mask_location_long]\n",
    "\n",
    "\n",
    "new_map = folium.Map(location =[41, -74.00] , zoom_start = 4)\n",
    "for i in range(0,len(temp.dropna())):\n",
    "        folium.Marker(\n",
    "          location=[temp.dropna().iloc[i]['dropoff_latitude'],temp.dropna().iloc[i]['dropoff_longitude']],\n",
    "          popup=temp.dropna().iloc[i]['id'],\n",
    "       ).add_to(new_map)\n",
    "new_map"
   ]
  },
  {
   "cell_type": "code",
   "execution_count": null,
   "metadata": {},
   "outputs": [],
   "source": [
    "mask_location_long = (train['dropoff_latitude']<lat_range[0])|( train['dropoff_latitude']>lat_range[1])\n",
    "# mask_location_lat =train['pickup_latitude']<pickup_latitude\n",
    "temp = train[mask_location_long]\n",
    "\n",
    "new_map = folium.Map(location =[41, -74.00] , zoom_start = 4)\n",
    "for i in range(0,len(temp.dropna())):\n",
    "        folium.Marker(\n",
    "          location=[temp.dropna().iloc[i]['dropoff_latitude'],temp.dropna().iloc[i]['dropoff_longitude']],\n",
    "          popup=temp.dropna().iloc[i]['id'],\n",
    "       ).add_to(new_map)\n",
    "new_map"
   ]
  },
  {
   "cell_type": "code",
   "execution_count": null,
   "metadata": {},
   "outputs": [],
   "source": [
    "mask_location_long = (train['pickup_latitude']<lat_range[0])|( train['pickup_latitude']>lat_range[1])\n",
    "# mask_location_lat =train['pickup_latitude']<pickup_latitude\n",
    "temp = train[mask_location_long]\n",
    "\n",
    "new_map = folium.Map(location =[41, -74.00] , zoom_start = 4)\n",
    "for i in range(0,len(temp.dropna())):\n",
    "        folium.Marker(\n",
    "          location=[temp.dropna().iloc[i]['pickup_latitude'],temp.dropna().iloc[i]['pickup_longitude']],\n",
    "          popup=temp.dropna().iloc[i]['id'],\n",
    "       ).add_to(new_map)\n",
    "new_map"
   ]
  },
  {
   "cell_type": "code",
   "execution_count": null,
   "metadata": {},
   "outputs": [],
   "source": [
    "#Plot pickup positions to visualize outliers\n",
    "pickup_longitude = list(train.pickup_longitude)\n",
    "pickup_latitude = list(train.pickup_latitude)\n",
    "plt.subplots(figsize=(18,6))\n",
    "plt.plot(pickup_longitude, pickup_latitude, '.', alpha = 1, markersize = 10)\n",
    "plt.xlabel('pickup_longitude')\n",
    "plt.ylabel('pickup_latitude')\n",
    "plt.show()"
   ]
  },
  {
   "cell_type": "code",
   "execution_count": null,
   "metadata": {},
   "outputs": [],
   "source": [
    "pickup_longitude = -80\n",
    "pickup_latitude = 39\n",
    "train[train['pickup_longitude']<pickup_longitude]\n",
    "train[train['pickup_latitude']<pickup_latitude]"
   ]
  },
  {
   "cell_type": "code",
   "execution_count": null,
   "metadata": {},
   "outputs": [],
   "source": [
    "#Plot dropoff positions to visualize outliers\n",
    "dropoff_longitude = list(train.dropoff_longitude)\n",
    "dropoff_latitude = list(train.dropoff_latitude)\n",
    "plt.subplots(figsize=(18,6))\n",
    "plt.plot(dropoff_longitude, dropoff_latitude, '.', alpha = 1, markersize = 10)\n",
    "plt.xlabel('dropoff_longitude')\n",
    "plt.ylabel('dropoff_latitude')\n",
    "plt.show()"
   ]
  },
  {
   "cell_type": "code",
   "execution_count": null,
   "metadata": {},
   "outputs": [],
   "source": [
    "pickup_longitude = -80\n",
    "pickup_latitude = 39\n",
    "\n",
    "mask_location_long =train['pickup_longitude']<pickup_longitude\n",
    "mask_location_lat =train['pickup_latitude']<pickup_latitude\n",
    "\n",
    "train.mask(mask_location_long,inplace=True)\n",
    "train.mask(mask_location_lat,inplace=True)"
   ]
  },
  {
   "cell_type": "code",
   "execution_count": null,
   "metadata": {},
   "outputs": [],
   "source": [
    "summary_table = _create_summary_table(train.dropna())"
   ]
  },
  {
   "cell_type": "code",
   "execution_count": null,
   "metadata": {},
   "outputs": [],
   "source": []
  },
  {
   "cell_type": "code",
   "execution_count": null,
   "metadata": {},
   "outputs": [],
   "source": [
    "#feature engineering, bunlari pipeline icinde yapmak daha mantikli olabilir\n",
    "\n",
    "date_columns = ['pickup_datetime','dropoff_datetime']\n",
    "train[date_columns] = train[date_columns].apply(pd.to_datetime)\n",
    "train['store_and_fwd_flag'] = train['store_and_fwd_flag'].astype(str)\n",
    "train['store_and_fwd_flag'] = np.where(train['store_and_fwd_flag'] == \"Y\", 1,0)\n",
    "\n",
    "train['pickup_datetime']= train['pickup_datetime'].apply(pd.to_datetime)\n",
    "train['store_and_fwd_flag'] = train['store_and_fwd_flag'].astype(str)\n",
    "train['store_and_fwd_flag'] = np.where(train['store_and_fwd_flag'] == \"Y\", 1,0)\n",
    "\n",
    "\n",
    "# cleaning passengers with 0,7,8,9\n",
    "train['passenger_count'].value_counts()\n",
    "non_passenger = [0,7,8,9]\n",
    "mask_passanger = train['passenger_count'].isin(non_passenger)\n",
    "train.mask(mask_passanger,inplace=True)"
   ]
  },
  {
   "cell_type": "code",
   "execution_count": null,
   "metadata": {},
   "outputs": [],
   "source": []
  },
  {
   "cell_type": "code",
   "execution_count": null,
   "metadata": {},
   "outputs": [],
   "source": [
    "from sklearn.model_selection import train_test_split\n",
    "from sklearn.metrics import mean_absolute_error\n",
    "import lightgbm as lgb\n",
    "\n",
    "y_train = train.trip_duration\n",
    "X_train = train.drop('trip_duration', axis = 1)\n",
    "\n",
    "X_test = test\n",
    "\n",
    "\n",
    "\n",
    "X_train.shape, y_train.shape, X_test.shape"
   ]
  },
  {
   "cell_type": "code",
   "execution_count": null,
   "metadata": {},
   "outputs": [],
   "source": []
  }
 ],
 "metadata": {
  "kernelspec": {
   "display_name": "Python 3 (ipykernel)",
   "language": "python",
   "name": "python3"
  },
  "language_info": {
   "codemirror_mode": {
    "name": "ipython",
    "version": 3
   },
   "file_extension": ".py",
   "mimetype": "text/x-python",
   "name": "python",
   "nbconvert_exporter": "python",
   "pygments_lexer": "ipython3",
   "version": "3.9.16"
  }
 },
 "nbformat": 4,
 "nbformat_minor": 4
}
